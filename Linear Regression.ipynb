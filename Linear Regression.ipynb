{
 "cells": [
  {
   "cell_type": "markdown",
   "metadata": {},
   "source": [
    "# Lineare Regression"
   ]
  },
  {
   "cell_type": "markdown",
   "metadata": {},
   "source": [
    "Ausgewählte statistische Kennzahlen der 19 Wohnviertel der Stadt Basel sowie der zwei Gemeinden Riehen und Bettingen seit 2015. \n",
    "\n",
    "Daten können von diesem Link bezogen werden https://opendata.swiss/de/dataset/kennzahlen-zu-den-basler-wohnvierteln-und-landgemeinden "
   ]
  },
  {
   "cell_type": "markdown",
   "metadata": {},
   "source": [
    "## Import"
   ]
  },
  {
   "cell_type": "code",
   "execution_count": 4,
   "metadata": {},
   "outputs": [],
   "source": [
    "import pandas as pd\n",
    "import numpy as np"
   ]
  },
  {
   "cell_type": "code",
   "execution_count": 5,
   "metadata": {},
   "outputs": [],
   "source": [
    "import matplotlib.pyplot as plt\n",
    "import seaborn as sns"
   ]
  },
  {
   "cell_type": "code",
   "execution_count": 6,
   "metadata": {},
   "outputs": [],
   "source": [
    "from sklearn.model_selection import train_test_split\n",
    "from sklearn.linear_model import LinearRegression\n",
    "from sklearn import metrics"
   ]
  },
  {
   "cell_type": "code",
   "execution_count": 7,
   "metadata": {},
   "outputs": [],
   "source": [
    "%matplotlib inline"
   ]
  },
  {
   "cell_type": "markdown",
   "metadata": {},
   "source": [
    "## Datenverständnis und -aufbereitung"
   ]
  },
  {
   "cell_type": "code",
   "execution_count": 89,
   "metadata": {},
   "outputs": [],
   "source": [
    "df = pd.read_csv('Daten_BS.csv', sep = ';' ).round(3)"
   ]
  },
  {
   "cell_type": "code",
   "execution_count": 90,
   "metadata": {
    "scrolled": true
   },
   "outputs": [
    {
     "data": {
      "text/html": [
       "<div>\n",
       "<style scoped>\n",
       "    .dataframe tbody tr th:only-of-type {\n",
       "        vertical-align: middle;\n",
       "    }\n",
       "\n",
       "    .dataframe tbody tr th {\n",
       "        vertical-align: top;\n",
       "    }\n",
       "\n",
       "    .dataframe thead th {\n",
       "        text-align: right;\n",
       "    }\n",
       "</style>\n",
       "<table border=\"1\" class=\"dataframe\">\n",
       "  <thead>\n",
       "    <tr style=\"text-align: right;\">\n",
       "      <th></th>\n",
       "      <th>publikationsjahr</th>\n",
       "      <th>wohnviertel_id</th>\n",
       "      <th>wohnviertel_name</th>\n",
       "      <th>anteil_sozialhilfeempfaenger</th>\n",
       "      <th>anteil_auslaender</th>\n",
       "      <th>anteil_personen_ohne_religionszugehoerigkeit</th>\n",
       "      <th>anteil_personen_in_einpersonenhaushalten</th>\n",
       "      <th>gymnasialquote</th>\n",
       "      <th>altersquotient</th>\n",
       "      <th>anteil_sesshafte</th>\n",
       "      <th>...</th>\n",
       "      <th>baujahr_der_wohngebaeude</th>\n",
       "      <th>anteil_einfamilienhaeuser</th>\n",
       "      <th>anteil_gruenflaechen</th>\n",
       "      <th>flaeche_pro_wohnung</th>\n",
       "      <th>wohnflaeche_pro_person</th>\n",
       "      <th>vermoegenssteuer_pro_veranlagung</th>\n",
       "      <th>einkommenssteuer_pro_veranlagung</th>\n",
       "      <th>erwerbstaetigenquote</th>\n",
       "      <th>arbeitsplaetze_pro_einwohner</th>\n",
       "      <th>arbeitslosenquote</th>\n",
       "    </tr>\n",
       "  </thead>\n",
       "  <tbody>\n",
       "    <tr>\n",
       "      <th>0</th>\n",
       "      <td>2015</td>\n",
       "      <td>5</td>\n",
       "      <td>St. Alban</td>\n",
       "      <td>0.032</td>\n",
       "      <td>0.309</td>\n",
       "      <td>0.472</td>\n",
       "      <td>0.251</td>\n",
       "      <td>0.479</td>\n",
       "      <td>0.490</td>\n",
       "      <td>0.347</td>\n",
       "      <td>...</td>\n",
       "      <td>1938.668</td>\n",
       "      <td>0.340</td>\n",
       "      <td>0.323</td>\n",
       "      <td>93.782</td>\n",
       "      <td>49.810</td>\n",
       "      <td>3839.556</td>\n",
       "      <td>15620.768</td>\n",
       "      <td>0.729</td>\n",
       "      <td>2.196</td>\n",
       "      <td>0.030</td>\n",
       "    </tr>\n",
       "    <tr>\n",
       "      <th>1</th>\n",
       "      <td>2015</td>\n",
       "      <td>14</td>\n",
       "      <td>Wettstein</td>\n",
       "      <td>0.048</td>\n",
       "      <td>0.295</td>\n",
       "      <td>0.511</td>\n",
       "      <td>0.272</td>\n",
       "      <td>0.597</td>\n",
       "      <td>0.301</td>\n",
       "      <td>0.363</td>\n",
       "      <td>...</td>\n",
       "      <td>1933.202</td>\n",
       "      <td>0.339</td>\n",
       "      <td>0.275</td>\n",
       "      <td>83.081</td>\n",
       "      <td>45.870</td>\n",
       "      <td>1688.972</td>\n",
       "      <td>9934.161</td>\n",
       "      <td>0.773</td>\n",
       "      <td>1.812</td>\n",
       "      <td>0.031</td>\n",
       "    </tr>\n",
       "    <tr>\n",
       "      <th>2</th>\n",
       "      <td>2015</td>\n",
       "      <td>16</td>\n",
       "      <td>Rosental</td>\n",
       "      <td>0.107</td>\n",
       "      <td>0.544</td>\n",
       "      <td>0.385</td>\n",
       "      <td>0.214</td>\n",
       "      <td>0.092</td>\n",
       "      <td>0.130</td>\n",
       "      <td>0.231</td>\n",
       "      <td>...</td>\n",
       "      <td>1945.958</td>\n",
       "      <td>0.052</td>\n",
       "      <td>0.084</td>\n",
       "      <td>69.306</td>\n",
       "      <td>33.393</td>\n",
       "      <td>225.052</td>\n",
       "      <td>5816.176</td>\n",
       "      <td>0.700</td>\n",
       "      <td>0.976</td>\n",
       "      <td>0.056</td>\n",
       "    </tr>\n",
       "    <tr>\n",
       "      <th>3</th>\n",
       "      <td>2015</td>\n",
       "      <td>20</td>\n",
       "      <td>Riehen</td>\n",
       "      <td>0.033</td>\n",
       "      <td>0.241</td>\n",
       "      <td>0.459</td>\n",
       "      <td>0.165</td>\n",
       "      <td>0.522</td>\n",
       "      <td>0.489</td>\n",
       "      <td>0.434</td>\n",
       "      <td>...</td>\n",
       "      <td>1956.933</td>\n",
       "      <td>0.661</td>\n",
       "      <td>0.797</td>\n",
       "      <td>102.951</td>\n",
       "      <td>47.777</td>\n",
       "      <td>2958.972</td>\n",
       "      <td>13108.316</td>\n",
       "      <td>0.733</td>\n",
       "      <td>0.160</td>\n",
       "      <td>0.019</td>\n",
       "    </tr>\n",
       "    <tr>\n",
       "      <th>4</th>\n",
       "      <td>2015</td>\n",
       "      <td>30</td>\n",
       "      <td>Bettingen</td>\n",
       "      <td>0.015</td>\n",
       "      <td>0.277</td>\n",
       "      <td>0.422</td>\n",
       "      <td>0.111</td>\n",
       "      <td>0.667</td>\n",
       "      <td>0.406</td>\n",
       "      <td>0.410</td>\n",
       "      <td>...</td>\n",
       "      <td>1961.971</td>\n",
       "      <td>0.791</td>\n",
       "      <td>0.903</td>\n",
       "      <td>121.407</td>\n",
       "      <td>51.261</td>\n",
       "      <td>2692.619</td>\n",
       "      <td>13426.116</td>\n",
       "      <td>0.733</td>\n",
       "      <td>0.294</td>\n",
       "      <td>0.019</td>\n",
       "    </tr>\n",
       "  </tbody>\n",
       "</table>\n",
       "<p>5 rows × 21 columns</p>\n",
       "</div>"
      ],
      "text/plain": [
       "   publikationsjahr  wohnviertel_id wohnviertel_name  \\\n",
       "0              2015               5        St. Alban   \n",
       "1              2015              14        Wettstein   \n",
       "2              2015              16         Rosental   \n",
       "3              2015              20           Riehen   \n",
       "4              2015              30        Bettingen   \n",
       "\n",
       "   anteil_sozialhilfeempfaenger  anteil_auslaender  \\\n",
       "0                         0.032              0.309   \n",
       "1                         0.048              0.295   \n",
       "2                         0.107              0.544   \n",
       "3                         0.033              0.241   \n",
       "4                         0.015              0.277   \n",
       "\n",
       "   anteil_personen_ohne_religionszugehoerigkeit  \\\n",
       "0                                         0.472   \n",
       "1                                         0.511   \n",
       "2                                         0.385   \n",
       "3                                         0.459   \n",
       "4                                         0.422   \n",
       "\n",
       "   anteil_personen_in_einpersonenhaushalten  gymnasialquote  altersquotient  \\\n",
       "0                                     0.251           0.479           0.490   \n",
       "1                                     0.272           0.597           0.301   \n",
       "2                                     0.214           0.092           0.130   \n",
       "3                                     0.165           0.522           0.489   \n",
       "4                                     0.111           0.667           0.406   \n",
       "\n",
       "   anteil_sesshafte  ...  baujahr_der_wohngebaeude  anteil_einfamilienhaeuser  \\\n",
       "0             0.347  ...                  1938.668                      0.340   \n",
       "1             0.363  ...                  1933.202                      0.339   \n",
       "2             0.231  ...                  1945.958                      0.052   \n",
       "3             0.434  ...                  1956.933                      0.661   \n",
       "4             0.410  ...                  1961.971                      0.791   \n",
       "\n",
       "   anteil_gruenflaechen  flaeche_pro_wohnung  wohnflaeche_pro_person  \\\n",
       "0                 0.323               93.782                  49.810   \n",
       "1                 0.275               83.081                  45.870   \n",
       "2                 0.084               69.306                  33.393   \n",
       "3                 0.797              102.951                  47.777   \n",
       "4                 0.903              121.407                  51.261   \n",
       "\n",
       "   vermoegenssteuer_pro_veranlagung  einkommenssteuer_pro_veranlagung  \\\n",
       "0                          3839.556                         15620.768   \n",
       "1                          1688.972                          9934.161   \n",
       "2                           225.052                          5816.176   \n",
       "3                          2958.972                         13108.316   \n",
       "4                          2692.619                         13426.116   \n",
       "\n",
       "   erwerbstaetigenquote  arbeitsplaetze_pro_einwohner  arbeitslosenquote  \n",
       "0                 0.729                         2.196              0.030  \n",
       "1                 0.773                         1.812              0.031  \n",
       "2                 0.700                         0.976              0.056  \n",
       "3                 0.733                         0.160              0.019  \n",
       "4                 0.733                         0.294              0.019  \n",
       "\n",
       "[5 rows x 21 columns]"
      ]
     },
     "execution_count": 90,
     "metadata": {},
     "output_type": "execute_result"
    }
   ],
   "source": [
    "df.head()"
   ]
  },
  {
   "cell_type": "code",
   "execution_count": 91,
   "metadata": {},
   "outputs": [
    {
     "name": "stdout",
     "output_type": "stream",
     "text": [
      "<class 'pandas.core.frame.DataFrame'>\n",
      "RangeIndex: 126 entries, 0 to 125\n",
      "Data columns (total 21 columns):\n",
      "publikationsjahr                                126 non-null int64\n",
      "wohnviertel_id                                  126 non-null int64\n",
      "wohnviertel_name                                126 non-null object\n",
      "anteil_sozialhilfeempfaenger                    126 non-null float64\n",
      "anteil_auslaender                               126 non-null float64\n",
      "anteil_personen_ohne_religionszugehoerigkeit    105 non-null float64\n",
      "anteil_personen_in_einpersonenhaushalten        126 non-null float64\n",
      "gymnasialquote                                  126 non-null float64\n",
      "altersquotient                                  126 non-null float64\n",
      "anteil_sesshafte                                126 non-null float64\n",
      "jugendquotient                                  126 non-null float64\n",
      "baujahr_der_wohngebaeude                        126 non-null float64\n",
      "anteil_einfamilienhaeuser                       126 non-null float64\n",
      "anteil_gruenflaechen                            126 non-null float64\n",
      "flaeche_pro_wohnung                             126 non-null float64\n",
      "wohnflaeche_pro_person                          126 non-null float64\n",
      "vermoegenssteuer_pro_veranlagung                126 non-null float64\n",
      "einkommenssteuer_pro_veranlagung                126 non-null float64\n",
      "erwerbstaetigenquote                            126 non-null float64\n",
      "arbeitsplaetze_pro_einwohner                    126 non-null float64\n",
      "arbeitslosenquote                               105 non-null float64\n",
      "dtypes: float64(18), int64(2), object(1)\n",
      "memory usage: 20.8+ KB\n"
     ]
    }
   ],
   "source": [
    "df.info()"
   ]
  },
  {
   "cell_type": "code",
   "execution_count": 116,
   "metadata": {},
   "outputs": [
    {
     "data": {
      "text/html": [
       "<div>\n",
       "<style scoped>\n",
       "    .dataframe tbody tr th:only-of-type {\n",
       "        vertical-align: middle;\n",
       "    }\n",
       "\n",
       "    .dataframe tbody tr th {\n",
       "        vertical-align: top;\n",
       "    }\n",
       "\n",
       "    .dataframe thead th {\n",
       "        text-align: right;\n",
       "    }\n",
       "</style>\n",
       "<table border=\"1\" class=\"dataframe\">\n",
       "  <thead>\n",
       "    <tr style=\"text-align: right;\">\n",
       "      <th></th>\n",
       "      <th>publikationsjahr</th>\n",
       "      <th>wohnviertel_id</th>\n",
       "      <th>anteil_sozialhilfeempfaenger</th>\n",
       "      <th>anteil_auslaender</th>\n",
       "      <th>anteil_personen_ohne_religionszugehoerigkeit</th>\n",
       "      <th>anteil_personen_in_einpersonenhaushalten</th>\n",
       "      <th>gymnasialquote</th>\n",
       "      <th>altersquotient</th>\n",
       "      <th>anteil_sesshafte</th>\n",
       "      <th>jugendquotient</th>\n",
       "      <th>baujahr_der_wohngebaeude</th>\n",
       "      <th>anteil_einfamilienhaeuser</th>\n",
       "      <th>anteil_gruenflaechen</th>\n",
       "      <th>flaeche_pro_wohnung</th>\n",
       "      <th>wohnflaeche_pro_person</th>\n",
       "      <th>vermoegenssteuer_pro_veranlagung</th>\n",
       "      <th>einkommenssteuer_pro_veranlagung</th>\n",
       "      <th>erwerbstaetigenquote</th>\n",
       "      <th>arbeitsplaetze_pro_einwohner</th>\n",
       "      <th>arbeitslosenquote</th>\n",
       "    </tr>\n",
       "  </thead>\n",
       "  <tbody>\n",
       "    <tr>\n",
       "      <th>count</th>\n",
       "      <td>126.000000</td>\n",
       "      <td>126.000000</td>\n",
       "      <td>126.000000</td>\n",
       "      <td>126.000000</td>\n",
       "      <td>105.000000</td>\n",
       "      <td>126.000000</td>\n",
       "      <td>126.000000</td>\n",
       "      <td>126.000000</td>\n",
       "      <td>126.000000</td>\n",
       "      <td>126.000000</td>\n",
       "      <td>126.000000</td>\n",
       "      <td>126.000000</td>\n",
       "      <td>126.000000</td>\n",
       "      <td>126.000000</td>\n",
       "      <td>126.000000</td>\n",
       "      <td>126.000000</td>\n",
       "      <td>126.000000</td>\n",
       "      <td>126.000000</td>\n",
       "      <td>126.000000</td>\n",
       "      <td>105.000000</td>\n",
       "    </tr>\n",
       "    <tr>\n",
       "      <th>mean</th>\n",
       "      <td>2017.500000</td>\n",
       "      <td>11.428571</td>\n",
       "      <td>0.061429</td>\n",
       "      <td>0.359222</td>\n",
       "      <td>0.476162</td>\n",
       "      <td>0.243770</td>\n",
       "      <td>0.422873</td>\n",
       "      <td>0.318444</td>\n",
       "      <td>0.340762</td>\n",
       "      <td>0.254508</td>\n",
       "      <td>1928.213968</td>\n",
       "      <td>0.282325</td>\n",
       "      <td>0.326413</td>\n",
       "      <td>81.215786</td>\n",
       "      <td>42.131722</td>\n",
       "      <td>2869.305675</td>\n",
       "      <td>10163.398532</td>\n",
       "      <td>0.731992</td>\n",
       "      <td>1.111087</td>\n",
       "      <td>0.039743</td>\n",
       "    </tr>\n",
       "    <tr>\n",
       "      <th>std</th>\n",
       "      <td>1.714643</td>\n",
       "      <td>7.021599</td>\n",
       "      <td>0.037348</td>\n",
       "      <td>0.099900</td>\n",
       "      <td>0.042946</td>\n",
       "      <td>0.055665</td>\n",
       "      <td>0.177052</td>\n",
       "      <td>0.095788</td>\n",
       "      <td>0.055687</td>\n",
       "      <td>0.067857</td>\n",
       "      <td>29.426277</td>\n",
       "      <td>0.249764</td>\n",
       "      <td>0.232356</td>\n",
       "      <td>15.093186</td>\n",
       "      <td>6.674171</td>\n",
       "      <td>4141.052184</td>\n",
       "      <td>4646.332899</td>\n",
       "      <td>0.053304</td>\n",
       "      <td>1.251565</td>\n",
       "      <td>0.015629</td>\n",
       "    </tr>\n",
       "    <tr>\n",
       "      <th>min</th>\n",
       "      <td>2015.000000</td>\n",
       "      <td>1.000000</td>\n",
       "      <td>0.012000</td>\n",
       "      <td>0.210000</td>\n",
       "      <td>0.381000</td>\n",
       "      <td>0.111000</td>\n",
       "      <td>0.092000</td>\n",
       "      <td>0.118000</td>\n",
       "      <td>0.189000</td>\n",
       "      <td>0.119000</td>\n",
       "      <td>1822.578000</td>\n",
       "      <td>0.019000</td>\n",
       "      <td>0.067000</td>\n",
       "      <td>65.325000</td>\n",
       "      <td>31.681000</td>\n",
       "      <td>162.198000</td>\n",
       "      <td>4303.549000</td>\n",
       "      <td>0.609000</td>\n",
       "      <td>0.118000</td>\n",
       "      <td>0.015000</td>\n",
       "    </tr>\n",
       "    <tr>\n",
       "      <th>25%</th>\n",
       "      <td>2016.000000</td>\n",
       "      <td>6.000000</td>\n",
       "      <td>0.032000</td>\n",
       "      <td>0.271750</td>\n",
       "      <td>0.452000</td>\n",
       "      <td>0.211000</td>\n",
       "      <td>0.273750</td>\n",
       "      <td>0.250500</td>\n",
       "      <td>0.307000</td>\n",
       "      <td>0.209500</td>\n",
       "      <td>1925.078500</td>\n",
       "      <td>0.077000</td>\n",
       "      <td>0.160000</td>\n",
       "      <td>70.008500</td>\n",
       "      <td>36.579250</td>\n",
       "      <td>475.006500</td>\n",
       "      <td>6395.728000</td>\n",
       "      <td>0.703000</td>\n",
       "      <td>0.191000</td>\n",
       "      <td>0.025000</td>\n",
       "    </tr>\n",
       "    <tr>\n",
       "      <th>50%</th>\n",
       "      <td>2017.500000</td>\n",
       "      <td>11.000000</td>\n",
       "      <td>0.049000</td>\n",
       "      <td>0.351500</td>\n",
       "      <td>0.474000</td>\n",
       "      <td>0.246500</td>\n",
       "      <td>0.373500</td>\n",
       "      <td>0.325500</td>\n",
       "      <td>0.335500</td>\n",
       "      <td>0.254000</td>\n",
       "      <td>1934.161500</td>\n",
       "      <td>0.167000</td>\n",
       "      <td>0.272000</td>\n",
       "      <td>74.796000</td>\n",
       "      <td>41.526500</td>\n",
       "      <td>1117.335000</td>\n",
       "      <td>8422.123500</td>\n",
       "      <td>0.737000</td>\n",
       "      <td>0.639000</td>\n",
       "      <td>0.039000</td>\n",
       "    </tr>\n",
       "    <tr>\n",
       "      <th>75%</th>\n",
       "      <td>2019.000000</td>\n",
       "      <td>16.000000</td>\n",
       "      <td>0.089000</td>\n",
       "      <td>0.434000</td>\n",
       "      <td>0.500000</td>\n",
       "      <td>0.281750</td>\n",
       "      <td>0.583250</td>\n",
       "      <td>0.375000</td>\n",
       "      <td>0.365000</td>\n",
       "      <td>0.297750</td>\n",
       "      <td>1942.064500</td>\n",
       "      <td>0.369000</td>\n",
       "      <td>0.370500</td>\n",
       "      <td>90.346750</td>\n",
       "      <td>47.675500</td>\n",
       "      <td>3735.967500</td>\n",
       "      <td>13428.137250</td>\n",
       "      <td>0.768250</td>\n",
       "      <td>1.655750</td>\n",
       "      <td>0.050000</td>\n",
       "    </tr>\n",
       "    <tr>\n",
       "      <th>max</th>\n",
       "      <td>2020.000000</td>\n",
       "      <td>30.000000</td>\n",
       "      <td>0.143000</td>\n",
       "      <td>0.559000</td>\n",
       "      <td>0.571000</td>\n",
       "      <td>0.352000</td>\n",
       "      <td>0.824000</td>\n",
       "      <td>0.491000</td>\n",
       "      <td>0.434000</td>\n",
       "      <td>0.400000</td>\n",
       "      <td>1962.448000</td>\n",
       "      <td>0.794000</td>\n",
       "      <td>0.903000</td>\n",
       "      <td>121.407000</td>\n",
       "      <td>55.740000</td>\n",
       "      <td>20903.359000</td>\n",
       "      <td>22686.809000</td>\n",
       "      <td>0.856000</td>\n",
       "      <td>4.603000</td>\n",
       "      <td>0.072000</td>\n",
       "    </tr>\n",
       "  </tbody>\n",
       "</table>\n",
       "</div>"
      ],
      "text/plain": [
       "       publikationsjahr  wohnviertel_id  anteil_sozialhilfeempfaenger  \\\n",
       "count        126.000000      126.000000                    126.000000   \n",
       "mean        2017.500000       11.428571                      0.061429   \n",
       "std            1.714643        7.021599                      0.037348   \n",
       "min         2015.000000        1.000000                      0.012000   \n",
       "25%         2016.000000        6.000000                      0.032000   \n",
       "50%         2017.500000       11.000000                      0.049000   \n",
       "75%         2019.000000       16.000000                      0.089000   \n",
       "max         2020.000000       30.000000                      0.143000   \n",
       "\n",
       "       anteil_auslaender  anteil_personen_ohne_religionszugehoerigkeit  \\\n",
       "count         126.000000                                    105.000000   \n",
       "mean            0.359222                                      0.476162   \n",
       "std             0.099900                                      0.042946   \n",
       "min             0.210000                                      0.381000   \n",
       "25%             0.271750                                      0.452000   \n",
       "50%             0.351500                                      0.474000   \n",
       "75%             0.434000                                      0.500000   \n",
       "max             0.559000                                      0.571000   \n",
       "\n",
       "       anteil_personen_in_einpersonenhaushalten  gymnasialquote  \\\n",
       "count                                126.000000      126.000000   \n",
       "mean                                   0.243770        0.422873   \n",
       "std                                    0.055665        0.177052   \n",
       "min                                    0.111000        0.092000   \n",
       "25%                                    0.211000        0.273750   \n",
       "50%                                    0.246500        0.373500   \n",
       "75%                                    0.281750        0.583250   \n",
       "max                                    0.352000        0.824000   \n",
       "\n",
       "       altersquotient  anteil_sesshafte  jugendquotient  \\\n",
       "count      126.000000        126.000000      126.000000   \n",
       "mean         0.318444          0.340762        0.254508   \n",
       "std          0.095788          0.055687        0.067857   \n",
       "min          0.118000          0.189000        0.119000   \n",
       "25%          0.250500          0.307000        0.209500   \n",
       "50%          0.325500          0.335500        0.254000   \n",
       "75%          0.375000          0.365000        0.297750   \n",
       "max          0.491000          0.434000        0.400000   \n",
       "\n",
       "       baujahr_der_wohngebaeude  anteil_einfamilienhaeuser  \\\n",
       "count                126.000000                 126.000000   \n",
       "mean                1928.213968                   0.282325   \n",
       "std                   29.426277                   0.249764   \n",
       "min                 1822.578000                   0.019000   \n",
       "25%                 1925.078500                   0.077000   \n",
       "50%                 1934.161500                   0.167000   \n",
       "75%                 1942.064500                   0.369000   \n",
       "max                 1962.448000                   0.794000   \n",
       "\n",
       "       anteil_gruenflaechen  flaeche_pro_wohnung  wohnflaeche_pro_person  \\\n",
       "count            126.000000           126.000000              126.000000   \n",
       "mean               0.326413            81.215786               42.131722   \n",
       "std                0.232356            15.093186                6.674171   \n",
       "min                0.067000            65.325000               31.681000   \n",
       "25%                0.160000            70.008500               36.579250   \n",
       "50%                0.272000            74.796000               41.526500   \n",
       "75%                0.370500            90.346750               47.675500   \n",
       "max                0.903000           121.407000               55.740000   \n",
       "\n",
       "       vermoegenssteuer_pro_veranlagung  einkommenssteuer_pro_veranlagung  \\\n",
       "count                        126.000000                        126.000000   \n",
       "mean                        2869.305675                      10163.398532   \n",
       "std                         4141.052184                       4646.332899   \n",
       "min                          162.198000                       4303.549000   \n",
       "25%                          475.006500                       6395.728000   \n",
       "50%                         1117.335000                       8422.123500   \n",
       "75%                         3735.967500                      13428.137250   \n",
       "max                        20903.359000                      22686.809000   \n",
       "\n",
       "       erwerbstaetigenquote  arbeitsplaetze_pro_einwohner  arbeitslosenquote  \n",
       "count            126.000000                    126.000000         105.000000  \n",
       "mean               0.731992                      1.111087           0.039743  \n",
       "std                0.053304                      1.251565           0.015629  \n",
       "min                0.609000                      0.118000           0.015000  \n",
       "25%                0.703000                      0.191000           0.025000  \n",
       "50%                0.737000                      0.639000           0.039000  \n",
       "75%                0.768250                      1.655750           0.050000  \n",
       "max                0.856000                      4.603000           0.072000  "
      ]
     },
     "execution_count": 116,
     "metadata": {},
     "output_type": "execute_result"
    }
   ],
   "source": [
    "df.describe()"
   ]
  },
  {
   "cell_type": "code",
   "execution_count": 10,
   "metadata": {},
   "outputs": [
    {
     "data": {
      "text/plain": [
       "pandas.core.series.Series"
      ]
     },
     "execution_count": 10,
     "metadata": {},
     "output_type": "execute_result"
    }
   ],
   "source": [
    "type(df['wohnviertel_name'])"
   ]
  },
  {
   "cell_type": "code",
   "execution_count": 93,
   "metadata": {},
   "outputs": [
    {
     "data": {
      "text/html": [
       "<div>\n",
       "<style scoped>\n",
       "    .dataframe tbody tr th:only-of-type {\n",
       "        vertical-align: middle;\n",
       "    }\n",
       "\n",
       "    .dataframe tbody tr th {\n",
       "        vertical-align: top;\n",
       "    }\n",
       "\n",
       "    .dataframe thead th {\n",
       "        text-align: right;\n",
       "    }\n",
       "</style>\n",
       "<table border=\"1\" class=\"dataframe\">\n",
       "  <thead>\n",
       "    <tr style=\"text-align: right;\">\n",
       "      <th></th>\n",
       "      <th>anteil_sozialhilfeempfaenger</th>\n",
       "      <th>anteil_auslaender</th>\n",
       "      <th>anteil_personen_ohne_religionszugehoerigkeit</th>\n",
       "      <th>anteil_personen_in_einpersonenhaushalten</th>\n",
       "      <th>gymnasialquote</th>\n",
       "      <th>altersquotient</th>\n",
       "      <th>anteil_sesshafte</th>\n",
       "      <th>jugendquotient</th>\n",
       "      <th>baujahr_der_wohngebaeude</th>\n",
       "      <th>anteil_einfamilienhaeuser</th>\n",
       "      <th>anteil_gruenflaechen</th>\n",
       "      <th>flaeche_pro_wohnung</th>\n",
       "      <th>wohnflaeche_pro_person</th>\n",
       "      <th>vermoegenssteuer_pro_veranlagung</th>\n",
       "      <th>einkommenssteuer_pro_veranlagung</th>\n",
       "      <th>erwerbstaetigenquote</th>\n",
       "      <th>arbeitsplaetze_pro_einwohner</th>\n",
       "      <th>arbeitslosenquote</th>\n",
       "    </tr>\n",
       "  </thead>\n",
       "  <tbody>\n",
       "    <tr>\n",
       "      <th>0</th>\n",
       "      <td>0.032</td>\n",
       "      <td>0.309</td>\n",
       "      <td>0.472</td>\n",
       "      <td>0.251</td>\n",
       "      <td>0.479</td>\n",
       "      <td>0.490</td>\n",
       "      <td>0.347</td>\n",
       "      <td>0.278</td>\n",
       "      <td>1938.668</td>\n",
       "      <td>0.340</td>\n",
       "      <td>0.323</td>\n",
       "      <td>93.782</td>\n",
       "      <td>49.810</td>\n",
       "      <td>3839.556</td>\n",
       "      <td>15620.768</td>\n",
       "      <td>0.729</td>\n",
       "      <td>2.196</td>\n",
       "      <td>0.030</td>\n",
       "    </tr>\n",
       "    <tr>\n",
       "      <th>1</th>\n",
       "      <td>0.048</td>\n",
       "      <td>0.295</td>\n",
       "      <td>0.511</td>\n",
       "      <td>0.272</td>\n",
       "      <td>0.597</td>\n",
       "      <td>0.301</td>\n",
       "      <td>0.363</td>\n",
       "      <td>0.215</td>\n",
       "      <td>1933.202</td>\n",
       "      <td>0.339</td>\n",
       "      <td>0.275</td>\n",
       "      <td>83.081</td>\n",
       "      <td>45.870</td>\n",
       "      <td>1688.972</td>\n",
       "      <td>9934.161</td>\n",
       "      <td>0.773</td>\n",
       "      <td>1.812</td>\n",
       "      <td>0.031</td>\n",
       "    </tr>\n",
       "    <tr>\n",
       "      <th>2</th>\n",
       "      <td>0.107</td>\n",
       "      <td>0.544</td>\n",
       "      <td>0.385</td>\n",
       "      <td>0.214</td>\n",
       "      <td>0.092</td>\n",
       "      <td>0.130</td>\n",
       "      <td>0.231</td>\n",
       "      <td>0.263</td>\n",
       "      <td>1945.958</td>\n",
       "      <td>0.052</td>\n",
       "      <td>0.084</td>\n",
       "      <td>69.306</td>\n",
       "      <td>33.393</td>\n",
       "      <td>225.052</td>\n",
       "      <td>5816.176</td>\n",
       "      <td>0.700</td>\n",
       "      <td>0.976</td>\n",
       "      <td>0.056</td>\n",
       "    </tr>\n",
       "    <tr>\n",
       "      <th>3</th>\n",
       "      <td>0.033</td>\n",
       "      <td>0.241</td>\n",
       "      <td>0.459</td>\n",
       "      <td>0.165</td>\n",
       "      <td>0.522</td>\n",
       "      <td>0.489</td>\n",
       "      <td>0.434</td>\n",
       "      <td>0.351</td>\n",
       "      <td>1956.933</td>\n",
       "      <td>0.661</td>\n",
       "      <td>0.797</td>\n",
       "      <td>102.951</td>\n",
       "      <td>47.777</td>\n",
       "      <td>2958.972</td>\n",
       "      <td>13108.316</td>\n",
       "      <td>0.733</td>\n",
       "      <td>0.160</td>\n",
       "      <td>0.019</td>\n",
       "    </tr>\n",
       "    <tr>\n",
       "      <th>4</th>\n",
       "      <td>0.015</td>\n",
       "      <td>0.277</td>\n",
       "      <td>0.422</td>\n",
       "      <td>0.111</td>\n",
       "      <td>0.667</td>\n",
       "      <td>0.406</td>\n",
       "      <td>0.410</td>\n",
       "      <td>0.297</td>\n",
       "      <td>1961.971</td>\n",
       "      <td>0.791</td>\n",
       "      <td>0.903</td>\n",
       "      <td>121.407</td>\n",
       "      <td>51.261</td>\n",
       "      <td>2692.619</td>\n",
       "      <td>13426.116</td>\n",
       "      <td>0.733</td>\n",
       "      <td>0.294</td>\n",
       "      <td>0.019</td>\n",
       "    </tr>\n",
       "  </tbody>\n",
       "</table>\n",
       "</div>"
      ],
      "text/plain": [
       "   anteil_sozialhilfeempfaenger  anteil_auslaender  \\\n",
       "0                         0.032              0.309   \n",
       "1                         0.048              0.295   \n",
       "2                         0.107              0.544   \n",
       "3                         0.033              0.241   \n",
       "4                         0.015              0.277   \n",
       "\n",
       "   anteil_personen_ohne_religionszugehoerigkeit  \\\n",
       "0                                         0.472   \n",
       "1                                         0.511   \n",
       "2                                         0.385   \n",
       "3                                         0.459   \n",
       "4                                         0.422   \n",
       "\n",
       "   anteil_personen_in_einpersonenhaushalten  gymnasialquote  altersquotient  \\\n",
       "0                                     0.251           0.479           0.490   \n",
       "1                                     0.272           0.597           0.301   \n",
       "2                                     0.214           0.092           0.130   \n",
       "3                                     0.165           0.522           0.489   \n",
       "4                                     0.111           0.667           0.406   \n",
       "\n",
       "   anteil_sesshafte  jugendquotient  baujahr_der_wohngebaeude  \\\n",
       "0             0.347           0.278                  1938.668   \n",
       "1             0.363           0.215                  1933.202   \n",
       "2             0.231           0.263                  1945.958   \n",
       "3             0.434           0.351                  1956.933   \n",
       "4             0.410           0.297                  1961.971   \n",
       "\n",
       "   anteil_einfamilienhaeuser  anteil_gruenflaechen  flaeche_pro_wohnung  \\\n",
       "0                      0.340                 0.323               93.782   \n",
       "1                      0.339                 0.275               83.081   \n",
       "2                      0.052                 0.084               69.306   \n",
       "3                      0.661                 0.797              102.951   \n",
       "4                      0.791                 0.903              121.407   \n",
       "\n",
       "   wohnflaeche_pro_person  vermoegenssteuer_pro_veranlagung  \\\n",
       "0                  49.810                          3839.556   \n",
       "1                  45.870                          1688.972   \n",
       "2                  33.393                           225.052   \n",
       "3                  47.777                          2958.972   \n",
       "4                  51.261                          2692.619   \n",
       "\n",
       "   einkommenssteuer_pro_veranlagung  erwerbstaetigenquote  \\\n",
       "0                         15620.768                 0.729   \n",
       "1                          9934.161                 0.773   \n",
       "2                          5816.176                 0.700   \n",
       "3                         13108.316                 0.733   \n",
       "4                         13426.116                 0.733   \n",
       "\n",
       "   arbeitsplaetze_pro_einwohner  arbeitslosenquote  \n",
       "0                         2.196              0.030  \n",
       "1                         1.812              0.031  \n",
       "2                         0.976              0.056  \n",
       "3                         0.160              0.019  \n",
       "4                         0.294              0.019  "
      ]
     },
     "execution_count": 93,
     "metadata": {},
     "output_type": "execute_result"
    }
   ],
   "source": [
    "df.columns\n",
    "df1 = df.drop(['publikationsjahr', 'wohnviertel_id', 'wohnviertel_name'],axis=1).dropna()\n",
    "df1.head()"
   ]
  },
  {
   "cell_type": "markdown",
   "metadata": {},
   "source": [
    "### Eine Heatmap mit der Korrelationsmatrix"
   ]
  },
  {
   "cell_type": "code",
   "execution_count": 122,
   "metadata": {
    "scrolled": false
   },
   "outputs": [
    {
     "data": {
      "image/png": "[encoded data removed]",
      "text/plain": [
       "<Figure size 720x720 with 2 Axes>"
      ]
     },
     "metadata": {
      "needs_background": "light"
     },
     "output_type": "display_data"
    }
   ],
   "source": [
    "plt.figure(figsize = (10,10))\n",
    "sns.heatmap(df1.corr(), cmap='coolwarm', linecolor='white',linewidths=1)\n",
    "plt.show()"
   ]
  },
  {
   "cell_type": "markdown",
   "metadata": {},
   "source": [
    "### Ein Jointplot mit der Erwerbstätigenquote und der Gymnasialquote"
   ]
  },
  {
   "cell_type": "code",
   "execution_count": 143,
   "metadata": {
    "scrolled": false
   },
   "outputs": [
    {
     "data": {
      "image/png": "[encoded data removed]",
      "text/plain": [
       "<Figure size 432x432 with 3 Axes>"
      ]
     },
     "metadata": {
      "needs_background": "light"
     },
     "output_type": "display_data"
    }
   ],
   "source": [
    "sns.jointplot(x='erwerbstaetigenquote', y='gymnasialquote', data=df1, kind='kde')\n",
    "plt.show()"
   ]
  },
  {
   "cell_type": "code",
   "execution_count": 135,
   "metadata": {},
   "outputs": [
    {
     "data": {
      "text/plain": [
       "0.737"
      ]
     },
     "execution_count": 135,
     "metadata": {},
     "output_type": "execute_result"
    }
   ],
   "source": [
    "df1['erwerbstaetigenquote'].median()"
   ]
  },
  {
   "cell_type": "code",
   "execution_count": 136,
   "metadata": {},
   "outputs": [
    {
     "data": {
      "text/plain": [
       "0.377"
      ]
     },
     "execution_count": 136,
     "metadata": {},
     "output_type": "execute_result"
    }
   ],
   "source": [
    "df1['gymnasialquote'].median()"
   ]
  },
  {
   "cell_type": "markdown",
   "metadata": {},
   "source": [
    "## Modellierung"
   ]
  },
  {
   "cell_type": "code",
   "execution_count": 95,
   "metadata": {},
   "outputs": [],
   "source": [
    "lm = LinearRegression()"
   ]
  },
  {
   "cell_type": "code",
   "execution_count": 96,
   "metadata": {},
   "outputs": [],
   "source": [
    "X = df1.drop('einkommenssteuer_pro_veranlagung', axis=1)\n",
    "y = df1['einkommenssteuer_pro_veranlagung']"
   ]
  },
  {
   "cell_type": "code",
   "execution_count": 97,
   "metadata": {},
   "outputs": [],
   "source": [
    "X_train, X_test, y_train, y_test = train_test_split(X, y, test_size=0.3, random_state=55)"
   ]
  },
  {
   "cell_type": "code",
   "execution_count": 98,
   "metadata": {},
   "outputs": [
    {
     "data": {
      "text/plain": [
       "LinearRegression(copy_X=True, fit_intercept=True, n_jobs=None, normalize=False)"
      ]
     },
     "execution_count": 98,
     "metadata": {},
     "output_type": "execute_result"
    }
   ],
   "source": [
    "lm.fit(X_train, y_train)"
   ]
  },
  {
   "cell_type": "markdown",
   "metadata": {},
   "source": [
    "## Evaluation"
   ]
  },
  {
   "cell_type": "code",
   "execution_count": 99,
   "metadata": {},
   "outputs": [
    {
     "name": "stdout",
     "output_type": "stream",
     "text": [
      "[-2.93173689e+03 -2.44002160e+03  1.85209880e+04 -3.11116316e+04\n",
      " -3.23042343e+03 -4.54325436e+03 -4.75293870e+03  2.26388865e+04\n",
      " -1.37572178e+00 -7.41822005e+03  1.80629930e+02 -1.01613952e+02\n",
      "  8.62712716e+02  3.94124745e-01 -9.04700173e+03 -3.88811142e+01\n",
      " -1.65023256e+04]\n"
     ]
    }
   ],
   "source": [
    "print(lm.coef_)"
   ]
  },
  {
   "cell_type": "code",
   "execution_count": 126,
   "metadata": {},
   "outputs": [
    {
     "name": "stdout",
     "output_type": "stream",
     "text": [
      "-8572.134815949608\n"
     ]
    }
   ],
   "source": [
    "print(lm.intercept_)"
   ]
  },
  {
   "cell_type": "code",
   "execution_count": 100,
   "metadata": {},
   "outputs": [
    {
     "data": {
      "text/html": [
       "<div>\n",
       "<style scoped>\n",
       "    .dataframe tbody tr th:only-of-type {\n",
       "        vertical-align: middle;\n",
       "    }\n",
       "\n",
       "    .dataframe tbody tr th {\n",
       "        vertical-align: top;\n",
       "    }\n",
       "\n",
       "    .dataframe thead th {\n",
       "        text-align: right;\n",
       "    }\n",
       "</style>\n",
       "<table border=\"1\" class=\"dataframe\">\n",
       "  <thead>\n",
       "    <tr style=\"text-align: right;\">\n",
       "      <th></th>\n",
       "      <th>Koeffizient</th>\n",
       "    </tr>\n",
       "  </thead>\n",
       "  <tbody>\n",
       "    <tr>\n",
       "      <th>anteil_sozialhilfeempfaenger</th>\n",
       "      <td>-2931.736893</td>\n",
       "    </tr>\n",
       "    <tr>\n",
       "      <th>anteil_auslaender</th>\n",
       "      <td>-2440.021599</td>\n",
       "    </tr>\n",
       "    <tr>\n",
       "      <th>anteil_personen_ohne_religionszugehoerigkeit</th>\n",
       "      <td>18520.988045</td>\n",
       "    </tr>\n",
       "    <tr>\n",
       "      <th>anteil_personen_in_einpersonenhaushalten</th>\n",
       "      <td>-31111.631620</td>\n",
       "    </tr>\n",
       "    <tr>\n",
       "      <th>gymnasialquote</th>\n",
       "      <td>-3230.423427</td>\n",
       "    </tr>\n",
       "    <tr>\n",
       "      <th>altersquotient</th>\n",
       "      <td>-4543.254364</td>\n",
       "    </tr>\n",
       "    <tr>\n",
       "      <th>anteil_sesshafte</th>\n",
       "      <td>-4752.938704</td>\n",
       "    </tr>\n",
       "    <tr>\n",
       "      <th>jugendquotient</th>\n",
       "      <td>22638.886456</td>\n",
       "    </tr>\n",
       "    <tr>\n",
       "      <th>baujahr_der_wohngebaeude</th>\n",
       "      <td>-1.375722</td>\n",
       "    </tr>\n",
       "    <tr>\n",
       "      <th>anteil_einfamilienhaeuser</th>\n",
       "      <td>-7418.220055</td>\n",
       "    </tr>\n",
       "    <tr>\n",
       "      <th>anteil_gruenflaechen</th>\n",
       "      <td>180.629930</td>\n",
       "    </tr>\n",
       "    <tr>\n",
       "      <th>flaeche_pro_wohnung</th>\n",
       "      <td>-101.613952</td>\n",
       "    </tr>\n",
       "    <tr>\n",
       "      <th>wohnflaeche_pro_person</th>\n",
       "      <td>862.712716</td>\n",
       "    </tr>\n",
       "    <tr>\n",
       "      <th>vermoegenssteuer_pro_veranlagung</th>\n",
       "      <td>0.394125</td>\n",
       "    </tr>\n",
       "    <tr>\n",
       "      <th>erwerbstaetigenquote</th>\n",
       "      <td>-9047.001730</td>\n",
       "    </tr>\n",
       "    <tr>\n",
       "      <th>arbeitsplaetze_pro_einwohner</th>\n",
       "      <td>-38.881114</td>\n",
       "    </tr>\n",
       "    <tr>\n",
       "      <th>arbeitslosenquote</th>\n",
       "      <td>-16502.325590</td>\n",
       "    </tr>\n",
       "  </tbody>\n",
       "</table>\n",
       "</div>"
      ],
      "text/plain": [
       "                                               Koeffizient\n",
       "anteil_sozialhilfeempfaenger                  -2931.736893\n",
       "anteil_auslaender                             -2440.021599\n",
       "anteil_personen_ohne_religionszugehoerigkeit  18520.988045\n",
       "anteil_personen_in_einpersonenhaushalten     -31111.631620\n",
       "gymnasialquote                                -3230.423427\n",
       "altersquotient                                -4543.254364\n",
       "anteil_sesshafte                              -4752.938704\n",
       "jugendquotient                                22638.886456\n",
       "baujahr_der_wohngebaeude                         -1.375722\n",
       "anteil_einfamilienhaeuser                     -7418.220055\n",
       "anteil_gruenflaechen                            180.629930\n",
       "flaeche_pro_wohnung                            -101.613952\n",
       "wohnflaeche_pro_person                          862.712716\n",
       "vermoegenssteuer_pro_veranlagung                  0.394125\n",
       "erwerbstaetigenquote                          -9047.001730\n",
       "arbeitsplaetze_pro_einwohner                    -38.881114\n",
       "arbeitslosenquote                            -16502.325590"
      ]
     },
     "execution_count": 100,
     "metadata": {},
     "output_type": "execute_result"
    }
   ],
   "source": [
    "pd.DataFrame(lm.coef_, X_train.columns, ['Koeffizient'])"
   ]
  },
  {
   "cell_type": "code",
   "execution_count": 101,
   "metadata": {
    "scrolled": false
   },
   "outputs": [
    {
     "data": {
      "text/plain": [
       "array([ 6339.2088282 ,  6854.13250495,  6139.33653927,  8794.50271678,\n",
       "        7331.37535658,  8958.18461924,  9889.87745652,  8647.94536377,\n",
       "       14035.30903353, 11969.50194226, 17417.78604883, 16903.06436357,\n",
       "        6260.73139046, 15782.63981425,  5585.20095227,  5102.70097897,\n",
       "       13434.10203554,  4590.33610455, 19781.97712205,  4719.38714849,\n",
       "       14907.2052223 , 13933.58158399, 10854.39221876, 10430.99245489,\n",
       "        6611.02346233, 14731.88873733,  5818.16972766, 17160.33298643,\n",
       "        7117.65025324,  9690.88945725, 16323.52538072,  7226.47118246])"
      ]
     },
     "execution_count": 101,
     "metadata": {},
     "output_type": "execute_result"
    }
   ],
   "source": [
    "preds = lm.predict(X_test)\n",
    "preds"
   ]
  },
  {
   "cell_type": "code",
   "execution_count": 147,
   "metadata": {},
   "outputs": [
    {
     "name": "stderr",
     "output_type": "stream",
     "text": [
      "C:\\Users\\berwegert\\AppData\\Local\\Continuum\\anaconda3\\lib\\site-packages\\ipykernel_launcher.py:3: MatplotlibDeprecationWarning: Adding an axes using the same arguments as a previous axes currently reuses the earlier instance.  In a future version, a new instance will always be created and returned.  Meanwhile, this warning can be suppressed, and the future behavior ensured, by passing a unique label to each axes instance.\n",
      "  This is separate from the ipykernel package so we can avoid doing imports until\n"
     ]
    },
    {
     "data": {
      "image/png": "[encoded data removed]",
      "text/plain": [
       "<Figure size 504x504 with 1 Axes>"
      ]
     },
     "metadata": {
      "needs_background": "light"
     },
     "output_type": "display_data"
    }
   ],
   "source": [
    "plt.figure(figsize = (7,7))\n",
    "plt.scatter(y_test,preds)\n",
    "ax = plt.axes()\n",
    "x = np.linspace(*ax.get_xlim())\n",
    "ax.plot(x, x, 'red')\n",
    "plt.ylabel('Die Prognosen')\n",
    "plt.xlabel('Die tatsächlichen Werte')\n",
    "plt.title('Die Güte unseres Modells')\n",
    "plt.show()"
   ]
  },
  {
   "cell_type": "markdown",
   "metadata": {},
   "source": [
    "### Metriken zur Bewertung des Modells: Errors und R2"
   ]
  },
  {
   "cell_type": "code",
   "execution_count": 151,
   "metadata": {},
   "outputs": [],
   "source": [
    "#Der mittlere absolute Fehler (englisch: Mean Absolute Error, kurz: MAE)\n",
    "MAE = metrics.mean_absolute_error(y_test, preds).round(2)"
   ]
  },
  {
   "cell_type": "code",
   "execution_count": 152,
   "metadata": {},
   "outputs": [],
   "source": [
    "# Der mittlere quadratische Fehler (englisch: Mean Squared Error, kurz: MSE)\n",
    "MSE = metrics.mean_squared_error(y_test, preds).round(2)"
   ]
  },
  {
   "cell_type": "code",
   "execution_count": 153,
   "metadata": {},
   "outputs": [],
   "source": [
    "# Wurzel der mittleren Fehlerquadratsumme (englisch: Root-mean-square error, kurz: RMSE)\n",
    "RMSE = np.sqrt(metrics.mean_squared_error(y_test, preds)).round(2)"
   ]
  },
  {
   "cell_type": "code",
   "execution_count": 156,
   "metadata": {},
   "outputs": [],
   "source": [
    "#Das Bestimmtheitsmass R2 (englisch: Coefficient of determination, R2 or r2 , ausgsprochen \"R squared\")\n",
    "r2 = metrics.r2_score(y_test, preds).round(3)"
   ]
  },
  {
   "cell_type": "code",
   "execution_count": 157,
   "metadata": {},
   "outputs": [
    {
     "name": "stdout",
     "output_type": "stream",
     "text": [
      "Der MAE beträgt: 537.03\n",
      "----------------------------------------\n",
      "Der MSE beträgt: 484050.26\n",
      "----------------------------------------\n",
      "Der RMSE beträgt: 695.74\n",
      "----------------------------------------\n",
      "R2 beträgt: 0.974\n"
     ]
    }
   ],
   "source": [
    "print('Der MAE beträgt:' , MAE)\n",
    "print('-'*40)\n",
    "print('Der MSE beträgt:' , MSE)\n",
    "print('-'*40)\n",
    "print('Der RMSE beträgt:' , RMSE)\n",
    "print('-'*40)  \n",
    "print('R2 beträgt:' ,r2 )"
   ]
  },
  {
   "cell_type": "code",
   "execution_count": null,
   "metadata": {},
   "outputs": [],
   "source": []
  },
  {
   "cell_type": "code",
   "execution_count": null,
   "metadata": {},
   "outputs": [],
   "source": []
  }
 ],
 "metadata": {
  "kernelspec": {
   "display_name": "Python 3",
   "language": "python",
   "name": "python3"
  },
  "language_info": {
   "codemirror_mode": {
    "name": "ipython",
    "version": 3
   },
   "file_extension": ".py",
   "mimetype": "text/x-python",
   "name": "python",
   "nbconvert_exporter": "python",
   "pygments_lexer": "ipython3",
   "version": "3.7.3"
  }
 },
 "nbformat": 4,
 "nbformat_minor": 2
}
